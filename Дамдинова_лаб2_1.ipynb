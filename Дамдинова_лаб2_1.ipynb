{
  "nbformat": 4,
  "nbformat_minor": 0,
  "metadata": {
    "colab": {
      "provenance": []
    },
    "kernelspec": {
      "name": "python3",
      "display_name": "Python 3"
    },
    "language_info": {
      "name": "python"
    }
  },
  "cells": [
    {
      "cell_type": "markdown",
      "source": [
        "Лабораторная работа 2.1"
      ],
      "metadata": {
        "id": "9DsaZSjGDVEY"
      }
    },
    {
      "cell_type": "code",
      "source": [
        "# № 2.1.1\n",
        "def sgn(a):\n",
        "  if a >0:\n",
        "    return 1\n",
        "  elif a == 0:\n",
        "    return 0\n",
        "  elif a<0:\n",
        "    return -1\n",
        "\n",
        "def calculate_z(x,y):\n",
        "  chisl= sgn(x)+y**2\n",
        "  znam=sgn(y)-(abs(x))**(1/2)\n",
        "  if znam==0:\n",
        "    raise ZeroDivisionError(\"Undefined\")\n",
        "  else:\n",
        "    return chisl/znam\n",
        "\n",
        "try:\n",
        "  x=int(input())\n",
        "  y=int(input())\n",
        "  print(round(calculate_z(x,y),2))\n",
        "\n",
        "except ValueError:\n",
        "  print(\"Ошибка: x и y должны быть числами!\")\n",
        "except ZeroDivisionError:\n",
        "  print(\"Undefined\")"
      ],
      "metadata": {
        "colab": {
          "base_uri": "https://localhost:8080/"
        },
        "id": "KzgD1sT5DUg1",
        "outputId": "e33d6d0f-a971-469c-e688-1f65e670e99b"
      },
      "execution_count": 4,
      "outputs": [
        {
          "output_type": "stream",
          "name": "stdout",
          "text": [
            "2\n",
            "4\n",
            "-41.04\n"
          ]
        }
      ]
    },
    {
      "cell_type": "code",
      "execution_count": null,
      "metadata": {
        "id": "f3BRFORwDTRP"
      },
      "outputs": [],
      "source": [
        "# № 2.1.2\n",
        "def avg(data):\n",
        "    return sum(data) / len(data)\n",
        "\n",
        "def cleared_data(data):\n",
        "    return [x for x in data if x is not None]\n",
        "\n",
        "n = int(input(\"Количество измерений: \"))\n",
        "\n",
        "data = []\n",
        "for i in range(n):\n",
        "    value = input(f\"Измерение {i+1}-е: \")\n",
        "    if value == '-':\n",
        "        data.append(None)\n",
        "    else:\n",
        "        data.append(int(value))\n",
        "\n",
        "cleaned = cleared_data(data)\n",
        "\n",
        "average_temp = avg(cleaned)\n",
        "\n",
        "print(f\"Средняя температура: {average_temp:.2f}\")"
      ]
    },
    {
      "cell_type": "code",
      "source": [
        "# № 2.1.3\n",
        "def is_lucky_number(n):\n",
        "    if n <= 0:\n",
        "        return False\n",
        "\n",
        "    even_count = 0\n",
        "    odd_count = 0\n",
        "\n",
        "    while n > 0:\n",
        "        digit = n % 10\n",
        "        if digit % 2 == 0:\n",
        "            even_count += 1\n",
        "        else:\n",
        "            odd_count += 1\n",
        "        n //= 10\n",
        "\n",
        "    return even_count == odd_count\n",
        "\n",
        "\n",
        "def find_lucky_numbers(a, b):\n",
        "    lucky_numbers = []\n",
        "    for num in range(a, b + 1):\n",
        "        if is_lucky_number(num):\n",
        "            lucky_numbers.append(num)\n",
        "    return lucky_numbers\n",
        "\n",
        "\n",
        "try:\n",
        "    a = int(input())\n",
        "    b = int(input())\n",
        "\n",
        "    if a >= b:\n",
        "        print(\"Ошибка: a должно быть меньше b\")\n",
        "    else:\n",
        "        result = find_lucky_numbers(a, b)\n",
        "        print(result)\n",
        "\n",
        "except ValueError:\n",
        "    print(\"[]\")"
      ],
      "metadata": {
        "colab": {
          "base_uri": "https://localhost:8080/"
        },
        "id": "8Lnja0nOEC5e",
        "outputId": "7c06fddb-ea44-4552-91e0-3a214d0c2c6a"
      },
      "execution_count": 5,
      "outputs": [
        {
          "output_type": "stream",
          "name": "stdout",
          "text": [
            "10\n",
            "25\n",
            "[10, 12, 14, 16, 18, 21, 23, 25]\n"
          ]
        }
      ]
    },
    {
      "cell_type": "code",
      "source": [
        "# № 2.1.4\n",
        "def is_leap(year):\n",
        "# является ли год високосным\n",
        "    return (year % 4 == 0 and year % 100 != 0) or (year % 400 == 0)\n",
        "\n",
        "\n",
        "def days(month, year):\n",
        "\n",
        "    if month in [1, 3, 5, 7, 8, 10, 12]:\n",
        "        return 31\n",
        "    elif month in [4, 6, 9, 11]:\n",
        "        return 30\n",
        "    elif month == 2:\n",
        "        return 29 if is_leap(year) else 28\n",
        "    else:\n",
        "        return 0  # некорр месяц\n",
        "\n",
        "\n",
        "def previous_date(day, month, year):\n",
        "\n",
        "    if day > 1:\n",
        "        return (day - 1, month, year)\n",
        "    else:\n",
        "        if month > 1:\n",
        "            prev_month = month - 1\n",
        "            prev_day = days(prev_month, year)\n",
        "            return (prev_day, prev_month, year)\n",
        "        else:\n",
        "            # предыдущий год\n",
        "            prev_year = year - 1\n",
        "            return (31, 12, prev_year)\n",
        "\n",
        "\n",
        "def next_date(day, month, year):\n",
        "\n",
        "    days_in_month = days(month, year)\n",
        "\n",
        "    if day < days_in_month:\n",
        "        return (day + 1, month, year)\n",
        "    else:\n",
        "        if month < 12:\n",
        "            return (1, month + 1, year)\n",
        "        else:\n",
        "            # следующий году\n",
        "            return (1, 1, year + 1)\n",
        "\n",
        "day, month, year = map(int, input(\"День, месяц, год через пробел: \").split())\n",
        "\n",
        "prev_day, prev_month, prev_year = previous_date(day, month, year)\n",
        "next_day, next_month, next_year = next_date(day, month, year)\n",
        "\n",
        "print(f\"Предыдущий день: {prev_day:02d}/{prev_month:02d}/{prev_year}\")\n",
        "print(f\"Следующий день: {next_day:02d}/{next_month:02d}/{next_year}\")"
      ],
      "metadata": {
        "colab": {
          "base_uri": "https://localhost:8080/"
        },
        "id": "M7CVmbSnEQwL",
        "outputId": "ecc674e2-8734-486d-8863-c56373bf0fb1"
      },
      "execution_count": 6,
      "outputs": [
        {
          "output_type": "stream",
          "name": "stdout",
          "text": [
            "День, месяц, год через пробел: 3 7 2005\n",
            "Предыдущий день: 02/07/2005\n",
            "Следующий день: 04/07/2005\n"
          ]
        }
      ]
    },
    {
      "cell_type": "code",
      "source": [
        "# № 2.1.5\n",
        "def another_date(day, month, year, delta=1):\n",
        "\n",
        "    def is_leap(year):\n",
        "    # является ли год високосным\n",
        "        return (year % 4 == 0 and year % 100 != 0) or (year % 400 == 0)\n",
        "\n",
        "\n",
        "    def days(month, year):\n",
        "\n",
        "        if month in [1, 3, 5, 7, 8, 10, 12]:\n",
        "            return 31\n",
        "        elif month in [4, 6, 9, 11]:\n",
        "            return 30\n",
        "        elif month == 2:\n",
        "            return 29 if is_leap(year) else 28\n",
        "        else:\n",
        "            return 0\n",
        "\n",
        "\n",
        "    def next_date(day, month, year):\n",
        "\n",
        "        days_in_month = days(month, year)\n",
        "\n",
        "        if day < days_in_month:\n",
        "            return (day + 1, month, year)\n",
        "        else:\n",
        "            if month < 12:\n",
        "                return (1, month + 1, year)\n",
        "            else:\n",
        "                return (1, 1, year + 1)\n",
        "\n",
        "\n",
        "    def previous_date(day, month, year):\n",
        "\n",
        "        if day > 1:\n",
        "            return (day - 1, month, year)\n",
        "        else:\n",
        "            if month > 1:\n",
        "                prev_month = month - 1\n",
        "                prev_day = days(prev_month, year)\n",
        "                return (prev_day, prev_month, year)\n",
        "            else:\n",
        "                prev_year = year - 1\n",
        "                return (31, 12, prev_year)\n",
        "\n",
        "    current_day, current_month, current_year = day, month, year\n",
        "\n",
        "    if delta >= 0:\n",
        "        # Добавляем дни\n",
        "        for _ in range(delta):\n",
        "            current_day, current_month, current_year = next_date(current_day, current_month, current_year)\n",
        "    else:\n",
        "        # Вычитаем дни (delta отрицательный)\n",
        "        for _ in range(abs(delta)):\n",
        "            current_day, current_month, current_year = previous_date(current_day, current_month, current_year)\n",
        "\n",
        "    return current_day, current_month, current_year\n",
        "\n",
        "\n",
        "day, month, year = map(int, input(\"День, месяц, год через пробел: \").split())\n",
        "delta = int(input(\"Сдвиг (может быть отрицательным): \"))\n",
        "\n",
        "new_day, new_month, new_year = another_date(day, month, year, delta)\n",
        "\n",
        "print(f\"Новый день: {new_day:02d}/{new_month:02d}/{new_year}\")"
      ],
      "metadata": {
        "colab": {
          "base_uri": "https://localhost:8080/"
        },
        "id": "guhrFvvsEjJm",
        "outputId": "81c2dc8a-a3e0-48ee-cb6b-317d57ef02e4"
      },
      "execution_count": 7,
      "outputs": [
        {
          "output_type": "stream",
          "name": "stdout",
          "text": [
            "День, месяц, год через пробел: 3 9 1989\n",
            "Сдвиг (может быть отрицательным): 3\n",
            "Новый день: 06/09/1989\n"
          ]
        }
      ]
    },
    {
      "cell_type": "code",
      "source": [
        "# № 2.1.6\n",
        "def gcd(first, second):\n",
        "    \"\"\"Вернуть НОД целых чисел 'first' и 'second'.\"\"\"\n",
        "    a = abs(first)\n",
        "    b = abs(second)\n",
        "    while b:\n",
        "        a, b = b, a % b\n",
        "    return a\n",
        "\n",
        "\n",
        "def lcm(first, second):\n",
        "    \"\"\"Вернуть НОК целых чисел 'first' и 'second'.\"\"\"\n",
        "    if first == 0 or second == 0:\n",
        "        return 0\n",
        "    return abs(first * second) // gcd(first, second)\n",
        "\n",
        "\n",
        "def gcd_nums(nums):\n",
        "    \"\"\"Вернуть НОД чисел из списка 'nums'.\n",
        "\n",
        "    Параметры:\n",
        "        - nums (list): список целых чисел.\n",
        "\n",
        "    Результат:\n",
        "        int: НОД всех чисел списка.\n",
        "    \"\"\"\n",
        "    if not nums:\n",
        "        return 0\n",
        "\n",
        "    result = nums[0]\n",
        "    for i in range(1, len(nums)):\n",
        "        result = gcd(result, nums[i])\n",
        "    return result\n",
        "\n",
        "\n",
        "def lcm_nums(nums):\n",
        "    \"\"\"Вернуть НОК чисел из списка 'nums'.\n",
        "\n",
        "    Параметры:\n",
        "        - nums (list): список целых чисел.\n",
        "\n",
        "    Результат:\n",
        "        int: НОК всех чисел списка.\n",
        "    \"\"\"\n",
        "    if not nums:\n",
        "        return 0\n",
        "\n",
        "    result = nums[0]\n",
        "    for i in range(1, len(nums)):\n",
        "        result = lcm(result, nums[i])\n",
        "    return result\n",
        "\n",
        "\n",
        "# Ввод данных\n",
        "nums = list(map(int, input(\"Введите числа через пробел: \").split()))\n",
        "\n",
        "# Вычисление НОД и НОК\n",
        "gcd_result = gcd_nums(nums)\n",
        "lcm_result = lcm_nums(nums)\n",
        "\n",
        "print(f\"НОД = {gcd_result}\")\n",
        "print(f\"НОК = {lcm_result}\")"
      ],
      "metadata": {
        "colab": {
          "base_uri": "https://localhost:8080/"
        },
        "id": "5IJWI-xSE24Z",
        "outputId": "d5477ed1-71ef-435f-e1d0-c8e376d69f4b"
      },
      "execution_count": 11,
      "outputs": [
        {
          "output_type": "stream",
          "name": "stdout",
          "text": [
            "Введите числа через пробел: 3 33 9\n",
            "НОД = 3\n",
            "НОК = 99\n"
          ]
        }
      ]
    },
    {
      "cell_type": "code",
      "source": [
        "# № 2.1.7\n",
        "def has_digits(sentence):\n",
        "    \"\"\"Проверяет, содержит ли предложение хотя бы одну цифру.\"\"\"\n",
        "    for char in sentence:\n",
        "        if char.isdigit():\n",
        "            return True\n",
        "    return False\n",
        "\n",
        "\n",
        "def sentences_with_digits_count(sentences):\n",
        "    \"\"\"Подсчитывает количество предложений, содержащих хотя бы одну цифру.\"\"\"\n",
        "    count = 0\n",
        "    for sentence in sentences:\n",
        "        if has_digits(sentence):\n",
        "            count += 1\n",
        "    return count\n",
        "\n",
        "\n",
        "n = int(input(\"Введите количество предложений: \"))\n",
        "\n",
        "sentences = []\n",
        "for i in range(n):\n",
        "    sentence = input(f\"Введите предложение №{i + 1}:\\n\")\n",
        "    sentences.append(sentence)\n",
        "\n",
        "result = sentences_with_digits_count(sentences)\n",
        "print(f\"Предложений с цифрой: {result}\")"
      ],
      "metadata": {
        "colab": {
          "base_uri": "https://localhost:8080/"
        },
        "id": "Uz-HF-meFdER",
        "outputId": "4a952645-0003-4b73-b855-4c8a558e4acb"
      },
      "execution_count": 13,
      "outputs": [
        {
          "output_type": "stream",
          "name": "stdout",
          "text": [
            "Введите количество предложений: 2\n",
            "Введите предложение №1:\n",
            "мяу 1\n",
            "Введите предложение №2:\n",
            "дайте зачет\n",
            "Предложений с цифрой: 1\n"
          ]
        }
      ]
    },
    {
      "cell_type": "code",
      "source": [
        "# № 2.1.8\n",
        "def print_with_border(string, char):\n",
        "    \"\"\"Напечатать строку в рамке из заданного символа.\n",
        "    \"\"\"\n",
        "    border = char * (len(string) + 2)\n",
        "    print(border)\n",
        "    print(f\"{char}{string}{char}\")\n",
        "    print(border)\n",
        "\n",
        "s = input(\"Введите строку: \")\n",
        "k = input(\"Введите символ: \")\n",
        "\n",
        "print_with_border(s, k)"
      ],
      "metadata": {
        "colab": {
          "base_uri": "https://localhost:8080/"
        },
        "id": "7tGC3es-Fyah",
        "outputId": "c5b6d921-bd20-486f-a093-0850c30c64af"
      },
      "execution_count": 14,
      "outputs": [
        {
          "output_type": "stream",
          "name": "stdout",
          "text": [
            "Введите строку: мяу\n",
            "Введите символ: -\n",
            "-----\n",
            "-мяу-\n",
            "-----\n"
          ]
        }
      ]
    },
    {
      "cell_type": "code",
      "source": [
        "# № 2.1.9\n",
        "\n",
        "LETTERS_EX = {10: \"A\", 11: \"B\", 12: \"C\", 13: \"D\", 14: \"E\", 15: \"F\"}\n",
        "DIGITS_EX = {\"A\": 10, \"B\": 11, \"C\": 12, \"D\": 13, \"E\": 14, \"F\": 15}\n",
        "\n",
        "\n",
        "def to_base(number, base):\n",
        "    \"\"\"Преобразовать десятичное число 'number' в с.с. 'base'.\"\"\"\n",
        "    if number == 0:\n",
        "        return \"0\"\n",
        "\n",
        "    d = []\n",
        "    n = number\n",
        "    while n > 0:\n",
        "        c = n % base\n",
        "        if c < 10:\n",
        "            d.append(str(c))\n",
        "        else:\n",
        "            d.append(LETTERS_EX[c])\n",
        "        n = n // base\n",
        "    d.reverse()\n",
        "    return ''.join(d)\n",
        "\n",
        "\n",
        "def from_base(number, base):\n",
        "    \"\"\"Преобразовать число в десятичную систему счисления\"\"\"\n",
        "    number_str = str(number).upper()\n",
        "    values = []\n",
        "\n",
        "    for position, digit_char in enumerate(number_str[::-1]):\n",
        "        if digit_char in DIGITS_EX:\n",
        "            digit_value = DIGITS_EX[digit_char]\n",
        "        else:\n",
        "            digit_value = int(digit_char)\n",
        "\n",
        "        values.append(digit_value * (base ** position))\n",
        "    return sum(values)\n",
        "\n",
        "\n",
        "base = int(input(\"Введите основание: \"))\n",
        "number = int(input(\"Введите число для перевода: \"))\n",
        "number_2 = input(\"Введите число для перевода в десятичную систему: \")\n",
        "\n",
        "print(to_base(number, base))\n",
        "print(from_base(number_2, base))"
      ],
      "metadata": {
        "colab": {
          "base_uri": "https://localhost:8080/"
        },
        "id": "nLpCf-etF4mu",
        "outputId": "91388923-47f2-4123-9029-a7292eedc7b7"
      },
      "execution_count": 15,
      "outputs": [
        {
          "output_type": "stream",
          "name": "stdout",
          "text": [
            "Введите основание: 3\n",
            "Введите число для перевода: 41\n",
            "Введите число для перевода в десятичную систему: 746\n",
            "1112\n",
            "81\n"
          ]
        }
      ]
    },
    {
      "cell_type": "code",
      "source": [
        "# № 2.1.10\n",
        "def sentence_stats(sentence):\n",
        "    \"\"\"Вернуть символьную статистику 'sentence'. Регистр не учитывается.\n",
        "    \"\"\"\n",
        "    stats = {}\n",
        "    # Приводим все символы к нижнему регистру и перебираем\n",
        "    for char in sentence.lower():\n",
        "        if char in stats:\n",
        "            stats[char] += 1\n",
        "        else:\n",
        "            stats[char] = 1\n",
        "    return stats\n",
        "\n",
        "\n",
        "# Ввод предложения\n",
        "s = input(\"Введите предложение: \")\n",
        "\n",
        "# Получение статистики\n",
        "result = sentence_stats(s)\n",
        "\n",
        "# Вывод результата\n",
        "print(result)"
      ],
      "metadata": {
        "colab": {
          "base_uri": "https://localhost:8080/"
        },
        "id": "vggLytXRGDw-",
        "outputId": "f9320875-05bb-4386-9778-e597e43f1930"
      },
      "execution_count": 16,
      "outputs": [
        {
          "output_type": "stream",
          "name": "stdout",
          "text": [
            "Введите предложение: всем привет, я хочу зачет\n",
            "{'в': 2, 'с': 1, 'е': 3, 'м': 1, ' ': 4, 'п': 1, 'р': 1, 'и': 1, 'т': 2, ',': 1, 'я': 1, 'х': 1, 'о': 1, 'ч': 2, 'у': 1, 'з': 1, 'а': 1}\n"
          ]
        }
      ]
    },
    {
      "cell_type": "code",
      "source": [
        "# № 2.1.11\n",
        "def ceasar(text, shift):\n",
        "    \"\"\"Вернуть измененную строку 'text' со сдвигом 'shift'.\n",
        "\n",
        "    Параметры:\n",
        "        - text (str): строка;\n",
        "        - shift (int): сдвиг.\n",
        "\n",
        "    Результат:\n",
        "        str: измененная строка.\"\"\"\n",
        "    # Набор кириллических букв (строчные)\n",
        "    letters = [chr(i) for i in range(ord('а'), ord('я') + 1)]\n",
        "\n",
        "    result = []\n",
        "\n",
        "    for char in text:\n",
        "        if char.lower() in letters:\n",
        "            # Определяем индекс буквы в алфавите\n",
        "            if char.isupper():\n",
        "                # Для заглавных букв\n",
        "                index = letters.index(char.lower())\n",
        "                new_index = (index + shift) % len(letters)\n",
        "                result.append(letters[new_index].upper())\n",
        "            else:\n",
        "                # Для строчных букв\n",
        "                index = letters.index(char)\n",
        "                new_index = (index + shift) % len(letters)\n",
        "                result.append(letters[new_index])\n",
        "        else:\n",
        "            # Не буквы оставляем без изменений\n",
        "            result.append(char)\n",
        "\n",
        "    return ''.join(result)\n",
        "\n",
        "text = input(\"Введите предложение: \")\n",
        "shift = int(input(\"Введите сдвиг: \"))\n",
        "\n",
        "encoded = ceasar(text, shift)\n",
        "decoded = ceasar(encoded, -shift)  # сдвиг в обратную сторону для расшифровки\n",
        "\n",
        "print(\"Зашифрованная строка:\", encoded)\n",
        "print(\"Расшифрованная строка:\", decoded)"
      ],
      "metadata": {
        "colab": {
          "base_uri": "https://localhost:8080/"
        },
        "id": "-Vdk9DXbGPb4",
        "outputId": "b9c0abc5-517f-44c3-bf1c-c77b2e3dc519"
      },
      "execution_count": 17,
      "outputs": [
        {
          "output_type": "stream",
          "name": "stdout",
          "text": [
            "Введите предложение: Зачет\n",
            "Введите сдвиг: 3\n",
            "Зашифрованная строка: Кгъих\n",
            "Расшифрованная строка: Зачет\n"
          ]
        }
      ]
    },
    {
      "cell_type": "code",
      "source": [
        "# № 2.1.12\n",
        "data = [\n",
        "    {1: 'м', 2: 'м', 3: 'м', 4: 'ж'},\n",
        "    {1: 'ж', 2: 'м', 3: 'ж', 4: 'ж'},\n",
        "    {1: 'ж', 2: 'ж', 3: 'ж', 4: 'ж'},\n",
        "    {1: 'м', 2: 'м', 3: 'м', 4: 'м'},\n",
        "    {1: None, 2: None, 3: None, 4: None},\n",
        "    {1: 'м', 2: None, 3: None, 4: 'ж'},\n",
        "    {1: None, 2: None, 3: None, 4: None},\n",
        "    {1: 'м', 2: 'м', 3: None, 4: 'м'},\n",
        "    {1: 'ж', 2: None, 3: None, 4: 'ж'}\n",
        "]\n",
        "\n",
        "\n",
        "def vacant_compartments(data):\n",
        "    \"\"\"Вернуть список полностью свободных купе. Нумерация купе идет с 1.\n",
        "\n",
        "    Параметры:\n",
        "        - data (list of dict): данные о занятости мест в вагоне.\n",
        "\n",
        "    Результат:\n",
        "        list of int.\"\"\"\n",
        "    result = []\n",
        "    for i, compartment in enumerate(data, 1):\n",
        "        # Проверяем, что все места в купе свободны (None)\n",
        "        if all(seat is None for seat in compartment.values()):\n",
        "            result.append(i)\n",
        "    return result\n",
        "\n",
        "\n",
        "def vacant_seats(data, compartments_condition=None, seat_condition=None):\n",
        "    \"\"\"Вернуть список свободных мест при соблюдении условий\n",
        "    'compartments_condition' и 'seat_condition'.\n",
        "    Нумерация купе и мест идет с 1.\n",
        "\n",
        "    Параметры:\n",
        "        - data (list of dict): данные о занятости мест в вагоне;\n",
        "        - compartments_condition (function):\n",
        "          функция c 1 параметром (словарь - купе), возвращающая True/False;\n",
        "        - seat_condition (function):\n",
        "          функция c 2 параметрами (номер места, значение),\n",
        "          возвращающая True/False.\n",
        "\n",
        "    Результат:\n",
        "        list of tuple: список кортежей вида (номер купе, номер места).\"\"\"\n",
        "    result = []\n",
        "    for compartment_num, compartment in enumerate(data, 1):\n",
        "        # Проверяем условие для купе (если задано)\n",
        "        if compartments_condition is None or compartments_condition(compartment):\n",
        "            for seat_num, seat_value in compartment.items():\n",
        "                # Место свободно и удовлетворяет условию для места\n",
        "                if seat_value is None and (seat_condition is None or seat_condition(seat_num, seat_value)):\n",
        "                    result.append((compartment_num, seat_num))\n",
        "    return result\n",
        "\n",
        "\n",
        "def is_same_sex_and_vacant(compartment, sex):\n",
        "    \"\"\"Вернуть True, если в купе 'compartment' есть свободные места,\n",
        "    а остальные пассажиры только пола 'sex'.\n",
        "\n",
        "    Параметры:\n",
        "        - compartment (dict): данные о купе;\n",
        "        - sex (str): пол (\"м\" или \"ж\").\n",
        "\n",
        "    Результат:\n",
        "        bool.\"\"\"\n",
        "    # Проверяем, что все занятые места заняты пассажирами указанного пола\n",
        "    occupied_seats = [value for value in compartment.values() if value is not None]\n",
        "    vacant_seats = [value for value in compartment.values() if value is None]\n",
        "\n",
        "    # Есть свободные места и все занятые места заняты пассажирами нужного пола\n",
        "    return len(vacant_seats) > 0 and all(s == sex for s in occupied_seats)\n",
        "\n",
        "\n",
        "# список полностью свободных купе\n",
        "print(vacant_compartments(data))\n",
        "# список свободных мест в вагоне\n",
        "print(vacant_seats(data))\n",
        "# список свободных нижних мест\n",
        "print(vacant_seats(data, seat_condition=lambda seat, value: seat % 2 != 0))\n",
        "# список свободных верхних мест\n",
        "print(vacant_seats(data, seat_condition=lambda seat, value: seat % 2 == 0))\n",
        "# список свободных мест в купе с исключительно мужской компанией\n",
        "print(vacant_seats(data, lambda x: is_same_sex_and_vacant(x, \"м\")))\n",
        "# список свободных мест в купе с исключительно женской компанией\n",
        "print(vacant_seats(data, lambda x: is_same_sex_and_vacant(x, \"ж\")))\n"
      ],
      "metadata": {
        "colab": {
          "base_uri": "https://localhost:8080/"
        },
        "id": "R4X1d-5fGelF",
        "outputId": "ccd02568-ae4c-42a0-cc8b-98da1748f85a"
      },
      "execution_count": 18,
      "outputs": [
        {
          "output_type": "stream",
          "name": "stdout",
          "text": [
            "[5, 7]\n",
            "[(5, 1), (5, 2), (5, 3), (5, 4), (6, 2), (6, 3), (7, 1), (7, 2), (7, 3), (7, 4), (8, 3), (9, 2), (9, 3)]\n",
            "[(5, 1), (5, 3), (6, 3), (7, 1), (7, 3), (8, 3), (9, 3)]\n",
            "[(5, 2), (5, 4), (6, 2), (7, 2), (7, 4), (9, 2)]\n",
            "[(5, 1), (5, 2), (5, 3), (5, 4), (7, 1), (7, 2), (7, 3), (7, 4), (8, 3)]\n",
            "[(5, 1), (5, 2), (5, 3), (5, 4), (7, 1), (7, 2), (7, 3), (7, 4), (9, 2), (9, 3)]\n"
          ]
        }
      ]
    },
    {
      "cell_type": "code",
      "source": [
        "# № 2.1.13\n",
        "votes = [\n",
        "    2, 3, -1, 2, 5, 1, 1, 4, 1, 1, 1, 3, 1, 3, 5, -1, 5, 2, 5, 5,\n",
        "    3, 3, 2, 3, 3, 2, 2, 1, 3, 2, 5, 2, 2, 4, 1, 1, 3, 2, 2, 3, 3,\n",
        "    3, 1, 4, 2, 1, 4, 2, 3, 3, 3, -1, 5, 3, 1, 4, 5, 1, 1, 3, 3,\n",
        "    3, -1, 5, 3, 3, 2, 5, 1, 1, 5, -1, 1, 2, 2, 3, -1, 4, 2, 5, 4,\n",
        "    2, -1, 3, 1, 4, 3, 5, 4, 1, 5, 3, 2, 4, 2, 1, 3, 4, 1, 1, 3, 4\n",
        "]\n",
        "\n",
        "parties = {\n",
        "    1: \"Партия №1\", 2: \"Партия №2\", 3: \"Партия №3\",\n",
        "    4: \"Партия №4\", 5: \"Партия №5\", -1: \"Испорчено\"\n",
        "}\n",
        "\n",
        "\n",
        "def parties_votes(parties, votes):\n",
        "    \"\"\"Вернуть информацию о голосах 'votes', отданных за партии 'parties'.\n",
        "    Испорченные бланки также присутствуют в результате.\n",
        "\n",
        "    Параметры:\n",
        "        - parties (dict): информация о партиях (номер голоса: название);\n",
        "        - votes (list): номера голосов.\n",
        "\n",
        "    Результат:\n",
        "        dict: название: кол-во отданных голосов.\"\"\"\n",
        "    result = {}\n",
        "    for vote in votes:\n",
        "        party_name = parties[vote]\n",
        "        if party_name in result:\n",
        "            result[party_name] += 1\n",
        "        else:\n",
        "            result[party_name] = 1\n",
        "    return result\n",
        "\n",
        "\n",
        "def print_results(votes_for_p):\n",
        "    \"\"\"Вывести результаты голосования в формате:\n",
        "\n",
        "    1. Партия №2 | 1111 | 58.21%\n",
        "    2. Партия №4 |  999 | 38.14%\n",
        "\n",
        "    Параметры:\n",
        "        - votes_for_p (dict): результат функции parties_votes().\n",
        "    \"\"\"\n",
        "    # Общее количество голосов\n",
        "    total_votes = sum(votes_for_p.values())\n",
        "\n",
        "    # Сортируем партии по убыванию количества голосов\n",
        "    sorted_parties = sorted(votes_for_p.items(), key=lambda x: x[1], reverse=True)\n",
        "\n",
        "    # Выводим результаты\n",
        "    for i, (party_name, votes_count) in enumerate(sorted_parties, 1):\n",
        "        percentage = (votes_count / total_votes) * 100\n",
        "        # Форматируем вывод: выравниваем числа и проценты\n",
        "        print(f\"{i}. {party_name} | {votes_count:2d} | {percentage:5.2f}%\")\n",
        "\n",
        "\n",
        "print_results(parties_votes(parties, votes))"
      ],
      "metadata": {
        "colab": {
          "base_uri": "https://localhost:8080/"
        },
        "id": "bAG0glLsG0Hg",
        "outputId": "f33bc7b4-cd13-4acf-ce5a-1fe33257ea76"
      },
      "execution_count": 19,
      "outputs": [
        {
          "output_type": "stream",
          "name": "stdout",
          "text": [
            "1. Партия №3 | 27 | 26.47%\n",
            "2. Партия №1 | 22 | 21.57%\n",
            "3. Партия №2 | 20 | 19.61%\n",
            "4. Партия №5 | 14 | 13.73%\n",
            "5. Партия №4 | 12 | 11.76%\n",
            "6. Испорчено |  7 |  6.86%\n"
          ]
        }
      ]
    },
    {
      "cell_type": "code",
      "source": [
        "# № 2.1.14\n",
        "def split_numbers(*args):\n",
        "    \"\"\"Вернуть 2 списка - отрицательных и неотицательных значений.\n",
        "\n",
        "    Параметры:\n",
        "        - *args: произвольное количество числовых аргументов.\n",
        "\n",
        "    Результат:\n",
        "        - list: отрицательные значения (отсортированы по убыванию);\n",
        "        - list: неотицательные значения (отсортированы по возрастанию).\"\"\"\n",
        "    negative = []\n",
        "    non_negative = []\n",
        "\n",
        "    for num in args:\n",
        "        if num < 0:\n",
        "            negative.append(num)\n",
        "        else:\n",
        "            non_negative.append(num)\n",
        "\n",
        "    # Сортировка отрицательных по убыванию (от -1 до -∞)\n",
        "    negative.sort(reverse=True)\n",
        "    # Сортировка неотрицательных по возрастанию (от 0 до ∞)\n",
        "    non_negative.sort()\n",
        "\n",
        "    return negative, non_negative\n",
        "\n",
        "\n",
        "print(split_numbers(1, 4, -5, 0, -33))"
      ],
      "metadata": {
        "colab": {
          "base_uri": "https://localhost:8080/"
        },
        "id": "S3C7PkazG6tN",
        "outputId": "33175359-2b38-4c4f-b01d-6e394738be46"
      },
      "execution_count": 20,
      "outputs": [
        {
          "output_type": "stream",
          "name": "stdout",
          "text": [
            "([-5, -33], [0, 1, 4])\n"
          ]
        }
      ]
    },
    {
      "cell_type": "code",
      "source": [
        "# № 2.1.15\n",
        "def gdp(c, i, g, ex, im):\n",
        "    \"\"\"Вернуть значение ВВП.\n",
        "\n",
        "    Параметры:\n",
        "        - c (int): конечное потребление;\n",
        "        - i (int): валовое накопление капитала;\n",
        "        - g (int): государственные расходы;\n",
        "        - ex (int): экспорт;\n",
        "        - im (int): импорт.\n",
        "\n",
        "    Результат:\n",
        "        int: значение ВВП.\n",
        "    \"\"\"\n",
        "    return c + i + g + ex - im\n",
        "\n",
        "\n",
        "# Ввод данных с клавиатуры\n",
        "info_dict = {}\n",
        "info_list = []\n",
        "\n",
        "info_dict['c'] = int(input(\"Конечное потребление: \"))\n",
        "info_dict['i'] = int(input(\"Валовое накопление капитала: \"))\n",
        "info_dict['g'] = int(input(\"Государственные расходы: \"))\n",
        "info_dict['ex'] = int(input(\"Экспорт: \"))\n",
        "info_dict['im'] = int(input(\"Импорт: \"))\n",
        "\n",
        "# Сохраняем значения в список в том же порядке, что и параметры функции\n",
        "info_list = [info_dict['c'], info_dict['i'], info_dict['g'], info_dict['ex'], info_dict['im']]\n",
        "\n",
        "# Вычисление ВВП с использованием распаковки аргументов\n",
        "result_from_list = gdp(*info_list)  # распаковка списка\n",
        "result_from_dict = gdp(**info_dict)  # распаковка словаря\n",
        "\n",
        "# Вывод результатов\n",
        "print(f\"ВВП = {result_from_list}\")\n",
        "print(f\"ВВП = {result_from_list}\")"
      ],
      "metadata": {
        "colab": {
          "base_uri": "https://localhost:8080/"
        },
        "id": "qCaVeTGLHE4I",
        "outputId": "66661a42-ba9a-44f6-eb8a-e2dc0afd90c4"
      },
      "execution_count": 21,
      "outputs": [
        {
          "output_type": "stream",
          "name": "stdout",
          "text": [
            "Конечное потребление: 200\n",
            "Валовое накопление капитала: 150\n",
            "Государственные расходы: 50\n",
            "Экспорт: 270\n",
            "Импорт: 500\n",
            "ВВП = 170\n",
            "ВВП = 170\n"
          ]
        }
      ]
    },
    {
      "cell_type": "code",
      "source": [
        "# № 2.1.16\n",
        "def pow1(value, power):\n",
        "    \"\"\"Вернуть 'value' в степени 'power'. Итеративный алгоритм.\n",
        "\n",
        "    Параметры:\n",
        "        - value (int/float): основание степени;\n",
        "        - power (int): показатель степени.\n",
        "\n",
        "    Результат:\n",
        "        int/float: value в степени power.\n",
        "    \"\"\"\n",
        "    result = 1\n",
        "    for _ in range(power):\n",
        "        result *= value\n",
        "    return result\n",
        "\n",
        "\n",
        "def pow2(value, power):\n",
        "    \"\"\"Вернуть 'value' в степени 'power'. Рекурсивный алгоритм.\n",
        "\n",
        "    Параметры:\n",
        "        - value (int/float): основание степени;\n",
        "        - power (int): показатель степени.\n",
        "\n",
        "    Результат:\n",
        "        int/float: value в степени power.\n",
        "    \"\"\"\n",
        "    if power == 0:\n",
        "        return 1\n",
        "    elif power < 0:\n",
        "        return 1 / pow2(value, -power)\n",
        "    else:\n",
        "        return value * pow2(value, power - 1)\n",
        "\n",
        "\n",
        "print(pow1(5, 3))\n",
        "print(pow2(5, 3))"
      ],
      "metadata": {
        "colab": {
          "base_uri": "https://localhost:8080/"
        },
        "id": "zWrSBlH5HO0c",
        "outputId": "8134a7bb-8382-487d-c882-bbe061ee3ba3"
      },
      "execution_count": 22,
      "outputs": [
        {
          "output_type": "stream",
          "name": "stdout",
          "text": [
            "125\n",
            "125\n"
          ]
        }
      ]
    },
    {
      "cell_type": "code",
      "source": [
        "# № 2.1.17\n",
        "def digits_sum(value):\n",
        "    \"\"\"Вернуть сумму цифр числа 'value'. Рекурсивная реализация.\n",
        "\n",
        "    Параметры:\n",
        "        - value (int): натуральное число.\n",
        "\n",
        "    Результат:\n",
        "        int: сумма цифр числа.\n",
        "    \"\"\"\n",
        "    if value == 0:\n",
        "        return 0\n",
        "    else:\n",
        "        return value % 10 + digits_sum(value // 10)\n",
        "\n",
        "\n",
        "def digits_count(value):\n",
        "    \"\"\"Вернуть количество цифр числа 'value'. Рекурсивная реализация.\n",
        "\n",
        "    Параметры:\n",
        "        - value (int): натуральное число.\n",
        "\n",
        "    Результат:\n",
        "        int: количество цифр в числе.\n",
        "    \"\"\"\n",
        "    if value == 0:\n",
        "        return 0\n",
        "    else:\n",
        "        return 1 + digits_count(value // 10)\n",
        "\n",
        "\n",
        "print(digits_sum(12345))\n",
        "print(digits_count(12345))"
      ],
      "metadata": {
        "colab": {
          "base_uri": "https://localhost:8080/"
        },
        "id": "7E70Lm7jHTQR",
        "outputId": "5b8fd123-fdd6-4c0c-a37a-7b33adf74f93"
      },
      "execution_count": 23,
      "outputs": [
        {
          "output_type": "stream",
          "name": "stdout",
          "text": [
            "15\n",
            "5\n"
          ]
        }
      ]
    },
    {
      "cell_type": "code",
      "source": [
        "# № 2.1.18\n",
        "def sum_digits_rec(number):\n",
        "    \"\"\"Вычислить сумму цифр числа 'number' рекурсивно.\n",
        "\n",
        "    Параметры:\n",
        "        - number (int): натуральное число.\n",
        "\n",
        "    Результат:\n",
        "        - int: сумма цифр числа.\"\"\"\n",
        "    if number == 0:\n",
        "        return 0\n",
        "    else:\n",
        "        return number % 10 + sum_digits_rec(number // 10)\n",
        "\n",
        "\n",
        "print(sum_digits_rec(12345))\n",
        "print(sum_digits_rec(987))"
      ],
      "metadata": {
        "colab": {
          "base_uri": "https://localhost:8080/"
        },
        "id": "LcMaJ1NlHXcg",
        "outputId": "adcad73b-1821-4950-c3b2-ea195e5227bc"
      },
      "execution_count": 24,
      "outputs": [
        {
          "output_type": "stream",
          "name": "stdout",
          "text": [
            "15\n",
            "24\n"
          ]
        }
      ]
    },
    {
      "cell_type": "code",
      "source": [
        "# № 2.1.19\n",
        "def fibonacci_rec(n):\n",
        "    \"\"\"Найти n-ое число Фибоначчи рекурсивно.\n",
        "\n",
        "    Параметры:\n",
        "        - n (int): порядковый номер числа в последовательности (начиная с 0).\n",
        "\n",
        "    Результат:\n",
        "        - int: n-ое число Фибоначчи.\"\"\"\n",
        "    if n == 0:\n",
        "        return 0\n",
        "    elif n == 1:\n",
        "        return 1\n",
        "    else:\n",
        "        return fibonacci_rec(n - 1) + fibonacci_rec(n - 2)\n",
        "\n",
        "\n",
        "print(fibonacci_rec(10))\n",
        "print(fibonacci_rec(5))"
      ],
      "metadata": {
        "colab": {
          "base_uri": "https://localhost:8080/"
        },
        "id": "3eAkumuiHY-I",
        "outputId": "80611f29-4108-4e78-db9c-eecfe63a422d"
      },
      "execution_count": 25,
      "outputs": [
        {
          "output_type": "stream",
          "name": "stdout",
          "text": [
            "55\n",
            "5\n"
          ]
        }
      ]
    },
    {
      "cell_type": "code",
      "source": [
        "# № 2.1.20\n",
        "def reverse_string_rec(s):\n",
        "    \"\"\"Перевернуть строку 's' с помощью рекурсии.\n",
        "\n",
        "    Параметры:\n",
        "        - s (str): исходная строка.\n",
        "\n",
        "    Результат:\n",
        "        - str: перевернутая строка.\"\"\"\n",
        "    if len(s) == 0:\n",
        "        return s\n",
        "    else:\n",
        "        return reverse_string_rec(s[1:]) + s[0]\n",
        "\n",
        "\n",
        "print(reverse_string_rec(\"hello\"))\n",
        "print(reverse_string_rec(\"python\"))"
      ],
      "metadata": {
        "colab": {
          "base_uri": "https://localhost:8080/"
        },
        "id": "JhV-4fb2Ha8w",
        "outputId": "b8a6f7dd-8558-4295-d9fe-7a8adfbcdc60"
      },
      "execution_count": 26,
      "outputs": [
        {
          "output_type": "stream",
          "name": "stdout",
          "text": [
            "olleh\n",
            "nohtyp\n"
          ]
        }
      ]
    },
    {
      "cell_type": "code",
      "source": [
        "# № 2.1.21\n",
        "def is_palindrome_rec(s):\n",
        "    \"\"\"Проверить, является ли строка 's' палиндромом, рекурсивно.\n",
        "\n",
        "    Параметры:\n",
        "        - s (str): строка для проверки.\n",
        "\n",
        "    Результат:\n",
        "        - bool: True, если строка является палиндромом, иначе False.\"\"\"\n",
        "    s = s.lower()\n",
        "\n",
        "    if len(s) <= 1:\n",
        "        return True\n",
        "    elif s[0] == s[-1]:\n",
        "        return is_palindrome_rec(s[1:-1])\n",
        "    else:\n",
        "        return False\n",
        "\n",
        "\n",
        "print(is_palindrome_rec(\"racecar\"))\n",
        "print(is_palindrome_rec(\"hello\"))\n",
        "print(is_palindrome_rec(\"madam\"))"
      ],
      "metadata": {
        "colab": {
          "base_uri": "https://localhost:8080/"
        },
        "id": "nqFBornbHfJi",
        "outputId": "1955256c-b63b-4554-97ec-af62bc492ef7"
      },
      "execution_count": 27,
      "outputs": [
        {
          "output_type": "stream",
          "name": "stdout",
          "text": [
            "True\n",
            "False\n",
            "True\n"
          ]
        }
      ]
    },
    {
      "cell_type": "code",
      "source": [
        "# № 2.1.22\n",
        "def sum_list_rec(numbers):\n",
        "    \"\"\"Вычислить сумму элементов списка 'numbers' рекурсивно.\n",
        "\n",
        "    Параметры:\n",
        "        - numbers (list): список чисел.\n",
        "\n",
        "    Результат:\n",
        "        - int, float: сумма всех элементов списка.\"\"\"\n",
        "    if len(numbers) == 0:\n",
        "        return 0\n",
        "    else:\n",
        "        return numbers[0] + sum_list_rec(numbers[1:])\n",
        "\n",
        "\n",
        "my_list = [1, 5, 3, 7, 2, 8]\n",
        "print(sum_list_rec(my_list))\n",
        "print(sum_list_rec([]))"
      ],
      "metadata": {
        "colab": {
          "base_uri": "https://localhost:8080/"
        },
        "id": "EO7CfFWCHgsu",
        "outputId": "db9d1ab1-4cdf-46b9-d3c2-140d645189af"
      },
      "execution_count": 28,
      "outputs": [
        {
          "output_type": "stream",
          "name": "stdout",
          "text": [
            "26\n",
            "0\n"
          ]
        }
      ]
    },
    {
      "cell_type": "code",
      "source": [
        "# № 2.1.23\n",
        "def print_numbers_down_rec(n):\n",
        "    \"\"\"Вывести числа от 'n' до 1 в столбик с помощью рекурсии.\n",
        "\n",
        "    Параметры:\n",
        "        - n (int): начальное положительное число.\n",
        "\n",
        "    Результат:\n",
        "        - None: функция ничего не возвращает, только печатает числа.\"\"\"\n",
        "    if n >= 1:\n",
        "        print(n)\n",
        "        print_numbers_down_rec(n - 1)\n",
        "\n",
        "\n",
        "print_numbers_down_rec(5)"
      ],
      "metadata": {
        "colab": {
          "base_uri": "https://localhost:8080/"
        },
        "id": "kSiQTmWYHiy0",
        "outputId": "82a9f5b7-f9d2-431b-e127-8e2a034646d5"
      },
      "execution_count": 29,
      "outputs": [
        {
          "output_type": "stream",
          "name": "stdout",
          "text": [
            "5\n",
            "4\n",
            "3\n",
            "2\n",
            "1\n"
          ]
        }
      ]
    },
    {
      "cell_type": "code",
      "source": [
        "# № 2.1.24\n",
        "def gcd_rec(a, b):\n",
        "    \"\"\"Найти наибольший общий делитель (НОД) чисел 'a' и 'b' рекурсивно.\n",
        "\n",
        "    Параметры:\n",
        "        - a (int): первое число.\n",
        "        - b (int): второе число.\n",
        "\n",
        "    Результат:\n",
        "        - int: НОД для a и b.\"\"\"\n",
        "    if b == 0:\n",
        "        return abs(a)\n",
        "    else:\n",
        "        return gcd_rec(b, a % b)\n",
        "\n",
        "\n",
        "print(gcd_rec(48, 18))\n",
        "print(gcd_rec(101, 10))"
      ],
      "metadata": {
        "colab": {
          "base_uri": "https://localhost:8080/"
        },
        "id": "SikrPFfBHkws",
        "outputId": "c05c1a2c-2a80-4f61-a6f3-da0afab47660"
      },
      "execution_count": 30,
      "outputs": [
        {
          "output_type": "stream",
          "name": "stdout",
          "text": [
            "6\n",
            "1\n"
          ]
        }
      ]
    },
    {
      "cell_type": "code",
      "source": [
        "# № 2.1.25\n",
        "def to_binary_rec(n):\n",
        "    \"\"\"Преобразовать десятичное число 'n' в двоичную строку рекурсивно.\n",
        "\n",
        "    Параметры:\n",
        "        - n (int): неотрицательное целое число.\n",
        "\n",
        "    Результат:\n",
        "        - str: двоичное представление числа 'n'.\"\"\"\n",
        "    if n == 0:\n",
        "        return \"0\"\n",
        "    elif n == 1:\n",
        "        return \"1\"\n",
        "    else:\n",
        "        return to_binary_rec(n // 2) + str(n % 2)\n",
        "\n",
        "\n",
        "print(to_binary_rec(25))\n",
        "print(to_binary_rec(7))\n",
        "print(to_binary_rec(0))"
      ],
      "metadata": {
        "colab": {
          "base_uri": "https://localhost:8080/"
        },
        "id": "840FT1QHHsP6",
        "outputId": "6129c9ff-a62b-49c3-cf60-38b247f2fd24"
      },
      "execution_count": 31,
      "outputs": [
        {
          "output_type": "stream",
          "name": "stdout",
          "text": [
            "11001\n",
            "111\n",
            "0\n"
          ]
        }
      ]
    },
    {
      "cell_type": "code",
      "source": [
        "# № 2.1.26\n",
        "def flatten_list_rec(nested_list):\n",
        "    \"\"\"Преобразовать вложенный список 'nested_list' в плоский рекурсивно.\n",
        "\n",
        "    Параметры:\n",
        "        - nested_list (list): список, который может содержать другие списки.\n",
        "\n",
        "    Результат:\n",
        "        - list: плоский список без вложенных списков.\"\"\"\n",
        "    result = []\n",
        "    for item in nested_list:\n",
        "        if isinstance(item, list):\n",
        "            # Если элемент - список, рекурсивно \"сплющиваем\" его\n",
        "            result.extend(flatten_list_rec(item))\n",
        "        else:\n",
        "            # Если элемент не список, добавляем его в результат\n",
        "            result.append(item)\n",
        "    return result\n",
        "\n",
        "\n",
        "my_list = [1, [2, 3], 4, [[5, 6], 7]]\n",
        "print(flatten_list_rec(my_list))"
      ],
      "metadata": {
        "colab": {
          "base_uri": "https://localhost:8080/"
        },
        "id": "Ki3PL5XSHxht",
        "outputId": "b59e0064-8403-4d0c-f2e1-59d5a5c94f81"
      },
      "execution_count": 32,
      "outputs": [
        {
          "output_type": "stream",
          "name": "stdout",
          "text": [
            "[1, 2, 3, 4, 5, 6, 7]\n"
          ]
        }
      ]
    },
    {
      "cell_type": "code",
      "source": [
        "# № 2.1.27\n",
        "def count_occurrences_rec(lst, item):\n",
        "    \"\"\"Подсчитать, сколько раз 'item' встречается в списке 'lst', рекурсивно.\n",
        "\n",
        "    Параметры:\n",
        "        - lst (list): список для поиска.\n",
        "        - item: элемент, который нужно найти.\n",
        "\n",
        "    Результат:\n",
        "        - int: количество вхождений элемента.\"\"\"\n",
        "    if len(lst) == 0:\n",
        "        return 0\n",
        "    else:\n",
        "        if lst[0] == item:\n",
        "            return 1 + count_occurrences_rec(lst[1:], item)\n",
        "        else:\n",
        "            return count_occurrences_rec(lst[1:], item)\n",
        "\n",
        "\n",
        "my_list = [1, 2, 5, 3, 2, 4, 2, 5]\n",
        "print(count_occurrences_rec(my_list, 2))\n",
        "print(count_occurrences_rec(my_list, 5))\n",
        "print(count_occurrences_rec(my_list, 9))"
      ],
      "metadata": {
        "colab": {
          "base_uri": "https://localhost:8080/"
        },
        "id": "jRoE46jCHy4X",
        "outputId": "270706d2-3989-4cd3-d730-f87289c24909"
      },
      "execution_count": 33,
      "outputs": [
        {
          "output_type": "stream",
          "name": "stdout",
          "text": [
            "3\n",
            "2\n",
            "0\n"
          ]
        }
      ]
    },
    {
      "cell_type": "code",
      "source": [
        "# № 2.1.28\n",
        "def digital_root_rec(n):\n",
        "    \"\"\"Найти цифровой корень числа 'n' рекурсивно.\n",
        "\n",
        "    Параметры:\n",
        "        - n (int): неотрицательное целое число.\n",
        "\n",
        "    Результат:\n",
        "        - int: цифровой корень числа 'n' (от 0 до 9).\"\"\"\n",
        "    if n < 10:\n",
        "        return n\n",
        "    else:\n",
        "        # Суммируем цифры числа\n",
        "        digit_sum = 0\n",
        "        for digit in str(n):\n",
        "            digit_sum += int(digit)\n",
        "        # Рекурсивно находим цифровой корень суммы\n",
        "        return digital_root_rec(digit_sum)\n",
        "\n",
        "\n",
        "print(digital_root_rec(65536))\n",
        "print(digital_root_rec(942))\n",
        "print(digital_root_rec(8))"
      ],
      "metadata": {
        "colab": {
          "base_uri": "https://localhost:8080/"
        },
        "id": "r7ArfLkSH1eT",
        "outputId": "1f1fc420-9c89-4c9c-d6c6-12bd66834783"
      },
      "execution_count": 34,
      "outputs": [
        {
          "output_type": "stream",
          "name": "stdout",
          "text": [
            "7\n",
            "6\n",
            "8\n"
          ]
        }
      ]
    },
    {
      "cell_type": "code",
      "source": [
        "# № 2.1.29\n",
        "def find_max_rec(numbers):\n",
        "    \"\"\"Найти максимальный элемент в списке 'numbers' рекурсивно.\n",
        "\n",
        "    Параметры:\n",
        "        - numbers (list): непустой список чисел.\n",
        "\n",
        "    Результат:\n",
        "        - int, float: максимальное значение в списке.\"\"\"\n",
        "    if len(numbers) == 1:\n",
        "        return numbers[0]\n",
        "    else:\n",
        "        # Находим максимум в оставшейся части списка\n",
        "        max_rest = find_max_rec(numbers[1:])\n",
        "        # Сравниваем первый элемент с максимумом оставшейся части\n",
        "        return numbers[0] if numbers[0] > max_rest else max_rest\n",
        "\n",
        "\n",
        "my_list = [10, 45, 8, 92, 14, 55]\n",
        "print(find_max_rec(my_list))"
      ],
      "metadata": {
        "colab": {
          "base_uri": "https://localhost:8080/"
        },
        "id": "sbVFGedJH43r",
        "outputId": "225afdad-ca99-420e-99cf-e16422d66771"
      },
      "execution_count": 35,
      "outputs": [
        {
          "output_type": "stream",
          "name": "stdout",
          "text": [
            "92\n"
          ]
        }
      ]
    },
    {
      "cell_type": "code",
      "source": [
        "# № 2.1.30\n",
        "def calculate_deposit_rec(principal, rate, years):\n",
        "    \"\"\"Рассчитать итоговую сумму вклада рекурсивно.\n",
        "\n",
        "    Параметры:\n",
        "        - principal (float): начальная сумма вклада.\n",
        "        - rate (float): годовая процентная ставка (например, 0.05 для 5%).\n",
        "        - years (int): количество лет.\n",
        "\n",
        "    Результат:\n",
        "        - float: итоговая сумма на счете.\"\"\"\n",
        "    if years == 0:\n",
        "        return principal\n",
        "    else:\n",
        "        new_principal = principal * (1 + rate)\n",
        "        return calculate_deposit_rec(new_principal, rate, years - 1)\n",
        "\n",
        "final_amount = calculate_deposit_rec(1000, 0.08, 5)\n",
        "print(f\"{final_amount:.2f}\")"
      ],
      "metadata": {
        "colab": {
          "base_uri": "https://localhost:8080/"
        },
        "id": "_FrXuVtkH7nP",
        "outputId": "ce440038-b280-4530-ab7a-69409292ffc0"
      },
      "execution_count": 36,
      "outputs": [
        {
          "output_type": "stream",
          "name": "stdout",
          "text": [
            "1469.33\n"
          ]
        }
      ]
    }
  ]
}